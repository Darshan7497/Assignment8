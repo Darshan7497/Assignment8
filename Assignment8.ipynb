{
 "cells": [
  {
   "cell_type": "markdown",
   "id": "6775adad-524f-4d45-98f3-c5d012f7b87b",
   "metadata": {},
   "source": [
    "Q1. You are writing code for a company. The requirement of the company is that you create a python\n",
    "function that will check whether the password entered by the user is correct or not. The function should\n",
    "take the password as input and return the string “Valid Password” if the entered password follows the\n",
    "below-given password guidelines else it should return “Invalid Password”.\n",
    "Note: 1. The Password should contain at least two uppercase letters and at least two lowercase letters.\n",
    "2. The Password should contain at least a number and three special characters.\n",
    "3. The length of the password should be 10 characters long."
   ]
  },
  {
   "cell_type": "code",
   "execution_count": 13,
   "id": "a6d0d11f-d881-4cec-b641-9860013c1bae",
   "metadata": {},
   "outputs": [
    {
     "name": "stdin",
     "output_type": "stream",
     "text": [
      "Enter Password darSH@#1235\n"
     ]
    },
    {
     "name": "stdout",
     "output_type": "stream",
     "text": [
      "None\n"
     ]
    }
   ],
   "source": [
    "pwd = input(\"Enter Password\")\n",
    "\n",
    "def password(pwd):\n",
    "    upper = 0 \n",
    "    lower = 0\n",
    "    num   = 0\n",
    "    spcl_char =0\n",
    "    for i in pwd:\n",
    "        if i.isupper() == True:\n",
    "            upper = upper +1\n",
    "        elif i.islower() == True:\n",
    "            lower = lower + 1\n",
    "        elif i.isdigit() == True:\n",
    "            num = num + 1\n",
    "        else :\n",
    "            spcl_char = spcl_char + 1\n",
    "    if upper >= 2 and lower >= 2 and num >= 1 and spcl_char >= 3 and len(pwd) >= 10:\n",
    "        return ' Valid Password'\n",
    "print(password(pwd))    "
   ]
  },
  {
   "cell_type": "markdown",
   "id": "1c1c2f58-66d7-4165-96bb-fcf8a3e0b2b6",
   "metadata": {},
   "source": [
    "Q2. Solve the below-given questions using at least one of the following:\n",
    "1. Lambda functioJ\n",
    "2. Filter functioJ\n",
    "3. Zap functioJ\n",
    "4. List ComprehensioI\n",
    "B Check if the string starts with a particular letterY\n",
    "B Check if the string is numericY\n",
    "B Sort a list of tuples having fruit names and their quantity. [(\"mango\",99),(\"orange\",80), (\"grapes\", 1000)-\n",
    "B Find the squares of numbers from 1 to 10Y\n",
    "B Find the cube root of numbers from 1 to 10Y\n",
    "B Check if a given number is evenY\n",
    "B Filter odd numbers from the given list.\n",
    "[1,2,3,4,5,6,7,8,9,10-\n",
    "B Sort a list of integers into positive and negative integers lists.\n",
    "[1,2,3,4,5,6,-1,-2,-3,-4,-5,0]"
   ]
  },
  {
   "cell_type": "markdown",
   "id": "5cce25ef-20da-4fad-b8fb-5ef5b5dad329",
   "metadata": {},
   "source": [
    "1. Check if the string starts with a particular letter using list comprehension:"
   ]
  },
  {
   "cell_type": "code",
   "execution_count": 1,
   "id": "3961990c-378c-4869-99c3-312739aedef7",
   "metadata": {},
   "outputs": [
    {
     "name": "stdout",
     "output_type": "stream",
     "text": [
      "['apple']\n"
     ]
    }
   ],
   "source": [
    "strings = ['apple', 'banana', 'orange', 'mango']\n",
    "letter = 'a'\n",
    "result = [s for s in strings if s.startswith(letter)]\n",
    "print(result)"
   ]
  },
  {
   "cell_type": "markdown",
   "id": "41ec53e2-78c7-4504-aeb6-92a67c599d1f",
   "metadata": {},
   "source": [
    "2. Check if the string is numeric using lambda function and isnumeric() method:"
   ]
  },
  {
   "cell_type": "code",
   "execution_count": 2,
   "id": "e661e209-fd31-4cd6-888c-26073935457d",
   "metadata": {},
   "outputs": [
    {
     "name": "stdout",
     "output_type": "stream",
     "text": [
      "['123']\n"
     ]
    }
   ],
   "source": [
    "strings = ['123', 'abc', '3.14', '1e3', '-42']\n",
    "result = list(filter(lambda s: s.isnumeric(), strings))\n",
    "print(result)"
   ]
  },
  {
   "cell_type": "markdown",
   "id": "56e7dfd6-d4d2-46e5-8e26-c0957e5ba1ac",
   "metadata": {},
   "source": [
    "3. Sort a list of tuples having fruit names and their quantity using lambda function:"
   ]
  },
  {
   "cell_type": "code",
   "execution_count": 3,
   "id": "c199a129-8c3a-40ec-a9d9-adc503164167",
   "metadata": {},
   "outputs": [
    {
     "name": "stdout",
     "output_type": "stream",
     "text": [
      "[('orange', 80), ('mango', 99), ('grapes', 1000)]\n"
     ]
    }
   ],
   "source": [
    "fruits = [(\"mango\",99),(\"orange\",80), (\"grapes\", 1000)]\n",
    "result = sorted(fruits, key=lambda x: x[1])\n",
    "print(result)"
   ]
  },
  {
   "cell_type": "markdown",
   "id": "701fc571-3728-4fe4-9d7d-8cd637339453",
   "metadata": {},
   "source": [
    "4. Find the squares of numbers from 1 to 10 using list comprehension:"
   ]
  },
  {
   "cell_type": "code",
   "execution_count": 9,
   "id": "d1628fca-7718-46b5-ad02-9920c6c33d40",
   "metadata": {},
   "outputs": [
    {
     "name": "stdout",
     "output_type": "stream",
     "text": [
      "[1, 4, 9, 16, 25, 36, 49, 64, 81, 100]\n"
     ]
    }
   ],
   "source": [
    "result = [x**2 for x in range(1, 11)]\n",
    "print(result)\n"
   ]
  },
  {
   "cell_type": "markdown",
   "id": "ca5937c6-ee35-4800-bb36-a5d6e2e2d45f",
   "metadata": {},
   "source": [
    "5. Find the cube root of numbers from 1 to 10 using map function and lambda function:"
   ]
  },
  {
   "cell_type": "code",
   "execution_count": 11,
   "id": "cc4b3024-b0d3-4be3-96c7-d76955713d3d",
   "metadata": {},
   "outputs": [
    {
     "data": {
      "text/plain": [
       "[1, 8, 27, 64, 125, 216, 343, 512, 729, 1000]"
      ]
     },
     "execution_count": 11,
     "metadata": {},
     "output_type": "execute_result"
    }
   ],
   "source": [
    "list2=[1,2,3,4,5,6,7,8,9,10]\n",
    "\n",
    "cube_list=map(lambda x: x**3, list2) \n",
    "\n",
    "[i for i in cube_list] "
   ]
  },
  {
   "cell_type": "markdown",
   "id": "1bcf52bc-ec7b-4759-8044-1076817f0c79",
   "metadata": {},
   "source": [
    "6. Check if a given number is even using lambda function:"
   ]
  },
  {
   "cell_type": "code",
   "execution_count": 6,
   "id": "0d713f06-fd66-4950-97ae-bdded41c1a51",
   "metadata": {},
   "outputs": [
    {
     "name": "stdout",
     "output_type": "stream",
     "text": [
      "True\n"
     ]
    }
   ],
   "source": [
    "even_num = lambda x: x% 2==0\n",
    "result = even_num(10)\n",
    "print(result)"
   ]
  },
  {
   "cell_type": "markdown",
   "id": "71a96175-abe1-40cd-976d-682af858d3e4",
   "metadata": {},
   "source": [
    "7. Filter odd numbers from the given list [1,2,3,4,5,6,7,8,9,10] using filter function and lambda function:"
   ]
  },
  {
   "cell_type": "code",
   "execution_count": 7,
   "id": "d4d4f252-bd57-4a1c-acfd-688907634750",
   "metadata": {},
   "outputs": [],
   "source": [
    "lst=[1,2,3,4,5,6,7,8,9,10]\n"
   ]
  },
  {
   "cell_type": "code",
   "execution_count": 9,
   "id": "40d850ba-61b5-40f1-9f99-c7eedde4505e",
   "metadata": {},
   "outputs": [
    {
     "data": {
      "text/plain": [
       "[1, 3, 5, 7, 9]"
      ]
     },
     "execution_count": 9,
     "metadata": {},
     "output_type": "execute_result"
    }
   ],
   "source": [
    "list(filter(lambda x : x % 2 != 0, lst))"
   ]
  },
  {
   "cell_type": "markdown",
   "id": "23acbc45-e753-4bbe-a798-f8d7f9ee23d0",
   "metadata": {},
   "source": [
    "8. Sort a list of integers into positive and negative integers lists using filter function and lambda function:\n"
   ]
  },
  {
   "cell_type": "code",
   "execution_count": 10,
   "id": "bb5d38f8-f46a-4c45-a264-81553dde9f71",
   "metadata": {},
   "outputs": [
    {
     "name": "stdout",
     "output_type": "stream",
     "text": [
      "([1, 2, 3, 4, 5, 6], [-1, -2, -3, -4, -5])\n"
     ]
    }
   ],
   "source": [
    "numbers = [1,2,3,4,5,6,-1,-2,-3,-4,-5,0]\n",
    "positive = list(filter(lambda x: x > 0, numbers))\n",
    "negative = list(filter(lambda x: x < 0, numbers))\n",
    "result = (positive, negative)\n",
    "print(result)"
   ]
  },
  {
   "cell_type": "code",
   "execution_count": null,
   "id": "585b6084-b559-4fce-a3df-991595c40c03",
   "metadata": {},
   "outputs": [],
   "source": []
  }
 ],
 "metadata": {
  "kernelspec": {
   "display_name": "Python 3 (ipykernel)",
   "language": "python",
   "name": "python3"
  },
  "language_info": {
   "codemirror_mode": {
    "name": "ipython",
    "version": 3
   },
   "file_extension": ".py",
   "mimetype": "text/x-python",
   "name": "python",
   "nbconvert_exporter": "python",
   "pygments_lexer": "ipython3",
   "version": "3.10.8"
  }
 },
 "nbformat": 4,
 "nbformat_minor": 5
}
